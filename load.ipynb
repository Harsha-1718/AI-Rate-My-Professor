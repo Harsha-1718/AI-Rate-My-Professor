{
 "cells": [
  {
   "cell_type": "code",
   "execution_count": 81,
   "metadata": {},
   "outputs": [],
   "source": [
    "from dotenv import load_dotenv #install dotenv - pip install python-dotenv(to load environment variables)\n",
    "load_dotenv() #loading env variables\n",
    "from pinecone import Pinecone,ServerlessSpec #pip install \"pinecone-client[grpc]\"\n",
    "import os\n",
    "from openai import OpenAI \n",
    "#pip install -r requirments.txt"
   ]
  },
  {
   "cell_type": "code",
   "execution_count": 82,
   "metadata": {},
   "outputs": [
    {
     "name": "stdout",
     "output_type": "stream",
     "text": [
      "<pinecone.control.pinecone.Pinecone object at 0x000002027AF3CF70>\n"
     ]
    }
   ],
   "source": [
    "\n",
    "pc = Pinecone(api_key = os.getenv(\"PINECONE_API_KEY\"))\n",
    "print(pc)\n",
    "index_name = \"rag\"\n",
    "if index_name not in pc.list_indexes().names():\n",
    "    pc.create_index(\n",
    "    name=index_name,\n",
    "    dimension = 1536,\n",
    "    metric = \"cosine\",\n",
    "    spec = ServerlessSpec(cloud = \"aws\",region = \"us-east-1\")\n",
    "    \n",
    ")"
   ]
  },
  {
   "cell_type": "code",
   "execution_count": 85,
   "metadata": {},
   "outputs": [
    {
     "name": "stdout",
     "output_type": "stream",
     "text": [
      "<openai.OpenAI object at 0x000002027AF87700>\n",
      "Upserted count: 10\n",
      "Prof. Jane Smith\n",
      "{'review': 'Prof. Smith is very knowledgeable, but her lectures can be a bit fast-paced. Overall, a good experience.', 'stars': 4.0, 'subject': 'Mathematics'}\n",
      "Prof. Kevin Moore\n",
      "{'review': 'Prof. Moore is an outstanding professor. His dynamic teaching style and real-world examples make sociology incredibly interesting.', 'stars': 5.0, 'subject': 'Sociology'}\n",
      "Dr. John Doe\n",
      "{'review': \"Dr. Doe's lectures are always insightful and engaging. He explains complex concepts with ease.\", 'stars': 5.0, 'subject': 'Computer Science'}\n"
     ]
    }
   ],
   "source": [
    "import json\n",
    "data = json.load(open(\"reviews.json\"))\n",
    "client = OpenAI(api_key=os.getenv(\"OPENAI_API_KEY\"))\n",
    "print(client)\n",
    "processed_data = []\n",
    "\n",
    "for review in data['reviews']:\n",
    "    response = client.embeddings.create(\n",
    "        input=review['review']+str(review[\"stars\"])+review[\"subject\"],\n",
    "        model = \"text-embedding-3-small\"\n",
    "    )\n",
    "    embedding = response.data[0].embedding\n",
    "    processed_data.append({\n",
    "        \"values\": embedding,\n",
    "        \"id\" : review['professorname'],\n",
    "        \"metadata\":{\n",
    "            \"review\":review['review'],\n",
    "            \"subject\":review['subject'],\n",
    "            \"stars\":review['stars']\n",
    "            \n",
    "        }\n",
    "        \n",
    "    })\n",
    "\n",
    "index = pc.Index(\"rag\")\n",
    "upsert_response = index.upsert(\n",
    "    vectors=processed_data,\n",
    "    namespace=\"ns1\",\n",
    ")\n",
    "print(f\"Upserted count: {upsert_response['upserted_count']}\")\n",
    "\n",
    "# Print index statistics\n",
    "\n",
    "text = \"suggest A professor who teach mathematics\"\n",
    "response = client.embeddings.create(\n",
    "    input=text,\n",
    "    model = \"text-embedding-3-small\"\n",
    ")\n",
    "myinput = response.data[0].embedding\n",
    "query_results1 = index.query(\n",
    "    namespace=\"ns1\",\n",
    "    vector=myinput,\n",
    "    top_k=3,\n",
    "    include_values=True,\n",
    "    include_metadata=True\n",
    ")\n",
    "for result in query_results1['matches']:\n",
    "    print(result[\"id\"])\n",
    "    print(result[\"metadata\"])\n",
    "    \n"
   ]
  }
 ],
 "metadata": {
  "kernelspec": {
   "display_name": "rag",
   "language": "python",
   "name": "python3"
  },
  "language_info": {
   "codemirror_mode": {
    "name": "ipython",
    "version": 3
   },
   "file_extension": ".py",
   "mimetype": "text/x-python",
   "name": "python",
   "nbconvert_exporter": "python",
   "pygments_lexer": "ipython3",
   "version": "3.9.13"
  }
 },
 "nbformat": 4,
 "nbformat_minor": 2
}
